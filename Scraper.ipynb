{
 "nbformat": 4,
 "nbformat_minor": 2,
 "metadata": {
  "language_info": {
   "name": "python",
   "codemirror_mode": {
    "name": "ipython",
    "version": 3
   },
   "version": "3.7.4"
  },
  "orig_nbformat": 2,
  "file_extension": ".py",
  "mimetype": "text/x-python",
  "name": "python",
  "npconvert_exporter": "python",
  "pygments_lexer": "ipython3",
  "version": 3
 },
 "cells": [
  {
   "cell_type": "code",
   "execution_count": 2,
   "metadata": {},
   "outputs": [],
   "source": [
    "import pandas as pd\n",
    "import requests\n",
    "from bs4 import BeautifulSoup\n",
    "from tqdm import tqdm\n",
    "import csv\n",
    "import asyncio\n",
    "import aiohttp\n",
    "import threading, queue"
   ]
  },
  {
   "cell_type": "code",
   "execution_count": 3,
   "metadata": {},
   "outputs": [],
   "source": [
    "def Get_Death_Data(url):\n",
    "    request = requests.get(url)\n",
    "    soup = BeautifulSoup(request.content,'html.parser')\n",
    "    death_number = soup.find_all('small')[0].get_text()\n",
    "    username = soup.find_all('small')[1].get_text()\n",
    "    username = username.strip()\n",
    "    player_name = soup.find('small').next_sibling.string[:-1]\n",
    "    player_name = player_name.strip()\n",
    "    rank = soup.find('h3', {'class': 'card-header'}, text='Rank')\n",
    "    try:\n",
    "        rank_tag = rank.parent\n",
    "        rank = rank_tag.findNext('div').get_text()\n",
    "        rank = rank.join(mystring.split())\n",
    "    except:\n",
    "        rank = 'none'\n",
    "    cause_of_death = soup.find('h3', {'class': 'card-header'}, text='Cause of Death')\n",
    "    try:\n",
    "        cause_of_death_tag = cause_of_death.parent\n",
    "        cause_of_death = cause_of_death_tag.findNext('div', {'class': 'card-body h4'}).get_text()\n",
    "        cause_of_death = cause_of_death.strip()\n",
    "    except:\n",
    "        cause_of_death = 'none'\n",
    "    location_of_death = soup.find_all('div', {'class': 'card-body h4'})[3].get_text()\n",
    "    location_of_death = location_of_death.strip()\n",
    "    location_of_death = location_of_death[:-27]\n",
    "    brute_damage = soup.find('span', {'class': 'badge-brute'}).get_text()\n",
    "    brain_damage = soup.find('span', {'class': 'badge-brain'}).get_text()\n",
    "    fire_damage = soup.find('span', {'class': 'badge-fire'}).get_text()\n",
    "    oxy_damage = soup.find('span', {'class': 'badge-oxy'}).get_text()\n",
    "    tox_damage = soup.find('span', {'class': 'badge-tox'}).get_text()\n",
    "    clone_damage = soup.find('span', {'class': 'badge-clone'}).get_text()\n",
    "    stamina_damage = soup.find('span', {'class': 'badge-stamina'}).get_text()\n",
    "    murder_suspect = soup.find('h3', {'class': 'card-header bg-danger text-white'})\n",
    "    try:\n",
    "        murder_tag = murder_suspect.parent\n",
    "        murder_suspect = murder_tag.findNext('div').get_text()\n",
    "        murder_suspect = murder_suspect.strip()\n",
    "    except:\n",
    "        murder_suspect = 'none'\n",
    "    lines_data = [death_number, username, player_name, rank, cause_of_death, brute_damage, brain_damage, fire_damage, oxy_damage, tox_damage, clone_damage, stamina_damage, murder_suspect]\n",
    "    lines = \",\".join(lines_data)\n",
    "    with open('deaths.csv', 'a') as f:\n",
    "        writer = csv.writer(f, delimiter=',', quoting=csv.QUOTE_NONE, quotechar='', escapechar=' ')\n",
    "        writer.writerow([lines])\n",
    "    "
   ]
  },
  {
   "cell_type": "code",
   "execution_count": 5,
   "metadata": {},
   "outputs": [
    {
     "name": "stderr",
     "output_type": "stream",
     "text": "  0%|          | 71/25854 [00:17<1:42:33,  4.19it/s]"
    }
   ],
   "source": [
    "for death in tqdm(range(25854)): \n",
    "    url = \"https://stats.austation.net/deaths/\" + str(death)\n",
    "    Get_Death_Data(url)"
   ]
  },
  {
   "cell_type": "code",
   "execution_count": 4,
   "metadata": {},
   "outputs": [],
   "source": [
    "Get_Death_Data('https://stats.austation.net/deaths/65')"
   ]
  },
  {
   "cell_type": "code",
   "execution_count": null,
   "metadata": {},
   "outputs": [],
   "source": []
  }
 ]
}