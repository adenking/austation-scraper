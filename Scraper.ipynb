{
 "nbformat": 4,
 "nbformat_minor": 2,
 "metadata": {
  "language_info": {
   "name": "python",
   "codemirror_mode": {
    "name": "ipython",
    "version": 3
   },
   "version": "3.7.5"
  },
  "orig_nbformat": 2,
  "file_extension": ".py",
  "mimetype": "text/x-python",
  "name": "python",
  "npconvert_exporter": "python",
  "pygments_lexer": "ipython3",
  "version": 3
 },
 "cells": [
  {
   "cell_type": "code",
   "execution_count": 4,
   "metadata": {},
   "outputs": [],
   "source": [
    "import pandas as pd\n",
    "import requests\n",
    "from bs4 import BeautifulSoup\n",
    "from tqdm import tqdm"
   ]
  },
  {
   "cell_type": "code",
   "execution_count": 34,
   "metadata": {},
   "outputs": [
    {
     "name": "stdout",
     "output_type": "stream",
     "text": "\n        Crippling Brain Damage\n      \n"
    }
   ],
   "source": [
    "request = requests.get(\"https://stats.austation.net/deaths/25822\") \n",
    "soup = BeautifulSoup(request.content,'html.parser') \n",
    "death_number = soup.find_all('small')[0]\n",
    "username = soup.find_all('small')[1]\n",
    "brute_damage = soup.find('span', {'class': 'badge-brute'}).get_text()\n",
    "brain_damage = soup.find('span', {'class': 'badge-brain'}).get_text()\n",
    "fire_damage = soup.find('span', {'class': 'badge-fire'}).get_text()\n",
    "oxy_damage = soup.find('span', {'class': 'badge-oxy'}).get_text()\n",
    "tox_damage = soup.find('span', {'class': 'badge-tox'}).get_text()\n",
    "clone_damage = soup.find('span', {'class': 'badge-clone'}).get_text()\n",
    "stamina_damage = soup.find('span', {'class': 'badge-stamina'}).get_text()\n",
    "player_name = soup.find('small').next_sibling.string[:-1]\n",
    "cause_of_death = soup.find_all('div', {'class': 'card-body h4'})[0].get_text()\n",
    "rank = soup.find_all('div', {'class': 'card-body h4'})[2].get_text()\n",
    "\n",
    "print(cause_of_death)"
   ]
  },
  {
   "cell_type": "code",
   "execution_count": null,
   "metadata": {},
   "outputs": [],
   "source": []
  },
  {
   "cell_type": "code",
   "execution_count": null,
   "metadata": {},
   "outputs": [],
   "source": []
  }
 ]
}